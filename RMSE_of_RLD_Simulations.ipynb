{
 "cells": [
  {
   "cell_type": "markdown",
   "metadata": {},
   "source": [
    "<font size=4 color='blue'>Copyright: 2021</font>\n",
    "\n",
    "<font size=4 color='blue'>Author: Fernand B. Eloundou</font>\n",
    "    \n",
    "---------------------------------------------------------------------------------------------------\n",
    "    \n",
    "<font size=4 color='black'>File: RMSE_of_RLD_Simulations.ipynb</font>\n",
    "\n",
    "----------------------------------------------------------------------------------------------------"
   ]
  },
  {
   "cell_type": "code",
   "execution_count": 1,
   "metadata": {},
   "outputs": [],
   "source": [
    "import numpy as np\n",
    "import pandas as pd\n",
    "\n",
    "import matplotlib.pyplot as plt\n",
    "\n",
    "import pickle5 as pkl"
   ]
  },
  {
   "cell_type": "code",
   "execution_count": 2,
   "metadata": {},
   "outputs": [
    {
     "data": {
      "text/plain": [
       "array([[ 3.36685095,  1.89385366,  1.26256911, ...,  1.47299729,\n",
       "         1.26256911,  1.68342548],\n",
       "       [ 0.94692683,  1.47299729,  2.10428184, ...,  0.84171274,\n",
       "         1.26256911,  1.05214092],\n",
       "       [ 1.3677832 ,  1.26256911,  1.15735501, ..., -1.        ,\n",
       "         0.73649865, -1.        ],\n",
       "       ...,\n",
       "       [ 0.        ,  0.        ,  0.        , ...,  0.        ,\n",
       "         0.        ,  0.        ],\n",
       "       [ 0.        ,  0.        ,  0.        , ...,  0.        ,\n",
       "         0.        ,  0.        ],\n",
       "       [ 0.        ,  0.        ,  0.        , ...,  0.        ,\n",
       "         0.        ,  0.        ]])"
      ]
     },
     "execution_count": 2,
     "metadata": {},
     "output_type": "execute_result"
    }
   ],
   "source": [
    "# Open measured RLD data in control plot\n",
    "\n",
    "with open('RLD_ctrl.pkl','rb') as f:\n",
    "    measured_RLD_ctrl = pkl.load(f)\n",
    "\n",
    "measured_rld = measured_RLD_ctrl.values\n",
    "measured_rld"
   ]
  },
  {
   "cell_type": "code",
   "execution_count": 3,
   "metadata": {},
   "outputs": [
    {
     "data": {
      "text/plain": [
       "array([[0.7129, 0.997 , 1.0393, ..., 0.8813, 0.9419, 0.2563],\n",
       "       [1.2005, 0.3363, 1.1219, ..., 0.7382, 0.932 , 0.5934],\n",
       "       [0.9207, 0.2148, 0.8308, ..., 0.5055, 0.7547, 0.6773],\n",
       "       ...,\n",
       "       [0.1835, 0.0654, 0.2681, ..., 0.2518, 0.3335, 0.3342],\n",
       "       [0.1161, 0.0046, 0.2757, ..., 0.2269, 0.2037, 0.1894],\n",
       "       [0.0626, 0.    , 0.1663, ..., 0.0965, 0.0462, 0.1224]])"
      ]
     },
     "execution_count": 3,
     "metadata": {},
     "output_type": "execute_result"
    }
   ],
   "source": [
    "# Read simulated RLD data in control plot\n",
    "\n",
    "sim_ctrl = pd.read_csv('sim_data_ctrl.txt', header=None)\n",
    "sim_rld = sim_ctrl.values\n",
    "sim_rld"
   ]
  },
  {
   "cell_type": "code",
   "execution_count": 4,
   "metadata": {},
   "outputs": [
    {
     "data": {
      "text/plain": [
       "array([[ 1.05214092,  2.7355664 ,  2.31471003, ..., -1.        ,\n",
       "        -1.        , -1.        ],\n",
       "       [ 1.68342548,  1.89385366,  0.84171274, ...,  0.84171274,\n",
       "         1.05214092,  1.05214092],\n",
       "       [ 0.84171274,  1.15735501,  0.84171274, ...,  0.63128455,\n",
       "         0.84171274,  0.63128455],\n",
       "       ...,\n",
       "       [ 0.        ,  0.        ,  0.        , ...,  0.374025  ,\n",
       "         0.        ,  0.374025  ],\n",
       "       [ 0.        ,  0.        ,  0.        , ...,  0.        ,\n",
       "         0.        ,  0.89537552],\n",
       "       [ 0.        ,  2.68612656,  0.        , ...,  0.        ,\n",
       "         0.        ,  0.        ]])"
      ]
     },
     "execution_count": 4,
     "metadata": {},
     "output_type": "execute_result"
    }
   ],
   "source": [
    "# Open measured RLD data in DL plot\n",
    "\n",
    "with open('RLD_DL.pkl','rb') as f:\n",
    "    measured_RLD_DL = pkl.load(f)\n",
    "    \n",
    "measured_rld_DL = measured_RLD_DL.values\n",
    "measured_rld_DL"
   ]
  },
  {
   "cell_type": "code",
   "execution_count": 5,
   "metadata": {},
   "outputs": [
    {
     "data": {
      "text/plain": [
       "array([[1.031 , 1.0981, 0.672 , ..., 0.6858, 0.7395, 0.52  ],\n",
       "       [0.678 , 0.8775, 1.1179, ..., 0.544 , 0.7289, 0.7185],\n",
       "       [0.4059, 0.5478, 0.9463, ..., 0.4879, 0.6569, 0.5641],\n",
       "       ...,\n",
       "       [0.2068, 0.2851, 0.3826, ..., 0.056 , 0.2168, 0.223 ],\n",
       "       [0.1353, 0.1391, 0.4765, ..., 0.0223, 0.1218, 0.1593],\n",
       "       [0.105 , 0.0988, 0.3199, ..., 0.0247, 0.0841, 0.0497]])"
      ]
     },
     "execution_count": 5,
     "metadata": {},
     "output_type": "execute_result"
    }
   ],
   "source": [
    "# Read simulated RLD data in DL plot\n",
    "\n",
    "sim_DL = pd.read_csv('sim_data_DL.txt', header=None)\n",
    "sim_rld_DL = sim_DL.iloc[:,30:50].values\n",
    "sim_rld_DL"
   ]
  },
  {
   "cell_type": "code",
   "execution_count": 6,
   "metadata": {},
   "outputs": [
    {
     "data": {
      "text/plain": [
       "0.9660197136878991"
      ]
     },
     "execution_count": 6,
     "metadata": {},
     "output_type": "execute_result"
    }
   ],
   "source": [
    "# RMSE CTRL \n",
    "\n",
    "rmse_ctrl = np.sqrt(sum(sum((sim_rld - measured_rld)**2))/measured_rld.size)\n",
    "rmse_ctrl"
   ]
  },
  {
   "cell_type": "code",
   "execution_count": 7,
   "metadata": {},
   "outputs": [
    {
     "data": {
      "text/plain": [
       "1.760379374847429"
      ]
     },
     "execution_count": 7,
     "metadata": {},
     "output_type": "execute_result"
    }
   ],
   "source": [
    "# Scatter index or normalized RMSE of two-dimension RLD in control plot\n",
    "# scatter index < 1 means optimization is good\n",
    "\n",
    "mean_measured_rld_ctrl = sum(sum(measured_rld))/measured_rld.size\n",
    "scatter_index_ctrl = rmse_ctrl/mean_measured_rld_ctrl\n",
    "scatter_index_ctrl"
   ]
  },
  {
   "cell_type": "code",
   "execution_count": 8,
   "metadata": {},
   "outputs": [
    {
     "data": {
      "text/plain": [
       "1.1183382807217366"
      ]
     },
     "execution_count": 8,
     "metadata": {},
     "output_type": "execute_result"
    }
   ],
   "source": [
    "# RMSE DL\n",
    "\n",
    "rmse_DL = np.sqrt(sum(sum((sim_rld_DL - measured_rld_DL)**2))/measured_rld_DL.size)\n",
    "rmse_DL"
   ]
  },
  {
   "cell_type": "code",
   "execution_count": 9,
   "metadata": {},
   "outputs": [
    {
     "data": {
      "text/plain": [
       "1.5353675966757132"
      ]
     },
     "execution_count": 9,
     "metadata": {},
     "output_type": "execute_result"
    }
   ],
   "source": [
    "# Scatter index or normalized RMSE of two-dimension RLD in DL plot\n",
    "# scatter index < 1 means optimization is good\n",
    "\n",
    "mean_measured_rld_DL = sum(sum(measured_rld_DL))/measured_rld_DL.size\n",
    "scatter_index_DL = rmse_DL/mean_measured_rld_DL\n",
    "scatter_index_DL"
   ]
  },
  {
   "cell_type": "code",
   "execution_count": 10,
   "metadata": {},
   "outputs": [],
   "source": [
    "# R-squared\n",
    "\n",
    "def total_variance(ytrue, mean_ytrue):\n",
    "    tss = sum(sum((ytrue - mean_ytrue)**2))\n",
    "    return tss\n",
    "\n",
    "\n",
    "def residual_sse(ytrue, ypred):\n",
    "    rss = sum(sum((ytrue - ypred)**2))\n",
    "    return rss"
   ]
  },
  {
   "cell_type": "code",
   "execution_count": 11,
   "metadata": {},
   "outputs": [
    {
     "data": {
      "text/plain": [
       "0.019631894639189927"
      ]
     },
     "execution_count": 11,
     "metadata": {},
     "output_type": "execute_result"
    }
   ],
   "source": [
    "# R_Squared ctrl opt\n",
    "\n",
    "tss = total_variance(measured_rld, mean_measured_rld_ctrl) \n",
    "rss = residual_sse(measured_rld, sim_rld)\n",
    "r_squared = (tss - rss)/tss\n",
    "\n",
    "r_squared"
   ]
  },
  {
   "cell_type": "code",
   "execution_count": 12,
   "metadata": {},
   "outputs": [
    {
     "data": {
      "text/plain": [
       "-0.0003784634891860983"
      ]
     },
     "execution_count": 12,
     "metadata": {},
     "output_type": "execute_result"
    }
   ],
   "source": [
    "# R-squared DL\n",
    "\n",
    "tss_DL = total_variance(measured_rld_DL, mean_measured_rld_DL) \n",
    "rss_DL = residual_sse(measured_rld_DL, sim_rld_DL)\n",
    "r_squared_DL = (tss_DL - rss_DL)/tss_DL\n",
    "\n",
    "r_squared_DL"
   ]
  },
  {
   "cell_type": "code",
   "execution_count": 13,
   "metadata": {},
   "outputs": [],
   "source": [
    "# Function to convert the 2D RLD data to 1D by averaging each row.\n",
    "\n",
    "def one_dimension_rld(rld_data):\n",
    "    \n",
    "    rld_list = []\n",
    "    for i in range(len(rld_data)):\n",
    "        mean_rld = rld_data[i].mean()\n",
    "        rld_list.append(mean_rld)\n",
    "    return rld_list"
   ]
  },
  {
   "cell_type": "code",
   "execution_count": 14,
   "metadata": {},
   "outputs": [],
   "source": [
    "# Measured and simulated 1D RLD in control and DL plots\n",
    "\n",
    "measured_rld_1D_ctrl = np.array(one_dimension_rld(measured_rld))\n",
    "sim_rld_1D_ctrl = np.array(one_dimension_rld(sim_rld))\n",
    "measured_rld_1D_DL = np.array(one_dimension_rld(measured_rld_DL))\n",
    "sim_rld_1D_DL = np.array(one_dimension_rld(sim_rld_DL))"
   ]
  },
  {
   "cell_type": "code",
   "execution_count": 15,
   "metadata": {},
   "outputs": [
    {
     "data": {
      "text/plain": [
       "0.2909937753507045"
      ]
     },
     "execution_count": 15,
     "metadata": {},
     "output_type": "execute_result"
    }
   ],
   "source": [
    "# RMSE of one-dimension RLD in control plot\n",
    "\n",
    "rmse_1D_ctrl = np.sqrt(sum((sim_rld_1D_ctrl - measured_rld_1D_ctrl)**2)/len(measured_rld_1D_ctrl))\n",
    "rmse_1D_ctrl"
   ]
  },
  {
   "cell_type": "code",
   "execution_count": 16,
   "metadata": {},
   "outputs": [
    {
     "data": {
      "text/plain": [
       "0.5302784540294243"
      ]
     },
     "execution_count": 16,
     "metadata": {},
     "output_type": "execute_result"
    }
   ],
   "source": [
    "# Scatter index or normalized RMSE of one-dimension RLD in control plot\n",
    "# scatter index < 1 means optimization is good\n",
    "\n",
    "mean_rld_1D_ctrl = measured_rld_1D_ctrl.mean()\n",
    "scatter_index_1D_ctrl = rmse_1D_ctrl/mean_rld_1D_ctrl\n",
    "scatter_index_1D_ctrl"
   ]
  },
  {
   "cell_type": "code",
   "execution_count": 17,
   "metadata": {},
   "outputs": [
    {
     "data": {
      "text/plain": [
       "0.436020498037977"
      ]
     },
     "execution_count": 17,
     "metadata": {},
     "output_type": "execute_result"
    }
   ],
   "source": [
    "# RMSE of one-dimension RLD in DL plot\n",
    "\n",
    "rmse_1D_DL = np.sqrt(sum((sim_rld_1D_DL - measured_rld_1D_DL)**2)/len(measured_rld_1D_DL))\n",
    "rmse_1D_DL"
   ]
  },
  {
   "cell_type": "code",
   "execution_count": 18,
   "metadata": {},
   "outputs": [
    {
     "data": {
      "text/plain": [
       "0.5986129203606221"
      ]
     },
     "execution_count": 18,
     "metadata": {},
     "output_type": "execute_result"
    }
   ],
   "source": [
    "# Scatter index or normalized RMSE of one-dimension RLD in DL plot\n",
    "# scatter index < 1 means optimization is good\n",
    "\n",
    "mean_rld_1D_DL = measured_rld_1D_DL.mean()\n",
    "scatter_index_1D_DL = rmse_1D_DL/mean_rld_1D_DL\n",
    "scatter_index_1D_DL "
   ]
  },
  {
   "cell_type": "code",
   "execution_count": null,
   "metadata": {},
   "outputs": [],
   "source": []
  }
 ],
 "metadata": {
  "kernelspec": {
   "display_name": "Python 3",
   "language": "python",
   "name": "python3"
  },
  "language_info": {
   "codemirror_mode": {
    "name": "ipython",
    "version": 3
   },
   "file_extension": ".py",
   "mimetype": "text/x-python",
   "name": "python",
   "nbconvert_exporter": "python",
   "pygments_lexer": "ipython3",
   "version": "3.8.5"
  }
 },
 "nbformat": 4,
 "nbformat_minor": 5
}
