{
 "cells": [
  {
   "cell_type": "markdown",
   "metadata": {},
   "source": [
    "<font size=4 color='blue'>Copyright: 2020</font>\n",
    "\n",
    "<font size=4 color='blue'>Author:    Fernand B. Eloundou</font>\n",
    "\n",
    "---------------------------------------------------------------------------------------------\n",
    "\n",
    "<font size=4 color='black'>File:     Optimization_of_Soil_Hydraulic_Parameters.ipynb</font>\n",
    "\n",
    "----------------------------------------------------------------------------------------------"
   ]
  },
  {
   "cell_type": "markdown",
   "metadata": {},
   "source": [
    "- Optimize soil water retention and hydraulic conductivity curves using HYPROP data at CF I-2.\n",
    "  Curve fitting with leastsq() function is used for the optimization with three sets of initial guess values.\n",
    "\n",
    "    * first optimization: arbitrary guess values.\n",
    "\n",
    "    * second optimization: predicted soil hydraulic parameters using ROSETTA as guess values.\n",
    "\n",
    "    * third optimization: predicted soil hydraulic parameters using Woesten PTFs (Seidel S., 2020) as guess values."
   ]
  },
  {
   "cell_type": "code",
   "execution_count": 1,
   "metadata": {},
   "outputs": [],
   "source": [
    "# import libraries\n",
    "\n",
    "import pandas as pd\n",
    "import numpy as np\n",
    "import xlrd\n",
    "\n",
    "import matplotlib.pyplot as plt\n",
    "\n",
    "\n",
    "from scipy.optimize import leastsq\n",
    "import warnings"
   ]
  },
  {
   "cell_type": "code",
   "execution_count": 2,
   "metadata": {},
   "outputs": [],
   "source": [
    "# pressure head for analytical solution\n",
    "\n",
    "h1202 = -np.logspace(-2, 7, 99, endpoint=False)\n",
    "h1203  = -np.logspace(-2, 7, 99, endpoint=False)"
   ]
  },
  {
   "cell_type": "code",
   "execution_count": 3,
   "metadata": {},
   "outputs": [],
   "source": [
    "# effective saturation for analytical solution\n",
    "\n",
    "Se1202 = np.linspace(0, 1.9, 99, endpoint=False)\n",
    "Se1203 = np.linspace(0, 1.9, 99, endpoint=False)"
   ]
  },
  {
   "cell_type": "code",
   "execution_count": 4,
   "metadata": {},
   "outputs": [],
   "source": [
    "# load topsoil (1203) HYPROP data\n",
    "# soil moisture tension (pF) --log of soil matric potential\n",
    "# log hydraulic conductivity (log K) in cm/d\n",
    "\n",
    "TH_pF_1203 = pd.read_excel('1203_new.xlsx', sheet_name='Evaluation-Retention-TH(pF)')\n",
    "TH_pF_1203['h'] = (10 ** TH_pF_1203['pF'])*-1                                  # convert pF to pressure head (h) in cm\n",
    "TH_pF_1203['theta'] = TH_pF_1203['Water_Content']/100                          # convert water content in percentage to cm3 cm-3\n",
    "\n",
    "K_pF_1203 = pd.read_excel('1203_new.xlsx', sheet_name='Evaluation-Conductivity-K(pF)')\n",
    "K_pF_1203['Kh'] = (10 ** (K_pF_1203['log_K']))                          # hydraulic conductivity in function of pressure head\n",
    "\n",
    "K_TH_1203 = pd.read_excel('1203_new.xlsx', sheet_name='Evaluation-Conductivity-K(TH)')\n",
    "K_TH_1203['Ktheta'] =  (10 ** (K_TH_1203['log_K']))                     # hydraulic conductivity in function of water content"
   ]
  },
  {
   "cell_type": "code",
   "execution_count": 5,
   "metadata": {},
   "outputs": [],
   "source": [
    "# topsoil (1203)\n",
    "# pressure head\n",
    "h_1203 = TH_pF_1203.h.values  \n",
    "\n",
    "# Water retention\n",
    "theta_1203 = TH_pF_1203.theta.values\n",
    "\n",
    "# Conductivity in function of h\n",
    "Kh_1203 = K_pF_1203.Kh.values\n",
    "\n",
    "# Conductivity in function of Theta\n",
    "Ktheta_1203 = K_TH_1203.Ktheta.values"
   ]
  },
  {
   "cell_type": "code",
   "execution_count": 6,
   "metadata": {},
   "outputs": [],
   "source": [
    "# load subsoil (1202) HYPROP data\n",
    "# soil moisture tension (pF) --log of soil matric potential\n",
    "# log hydraulic conductivity (log K) in cm/d\n",
    "\n",
    "TH_pF_1202 = pd.read_excel('1202_new.xlsx', sheet_name='Evaluation-Retention-TH(pF)')\n",
    "K_pF_1202 = pd.read_excel('1202_new.xlsx', sheet_name='Evaluation-Conductivity-K(pF)')\n",
    "K_TH_1202 = pd.read_excel('1202_new.xlsx', sheet_name='Evaluation-Conductivity-K(TH)')"
   ]
  },
  {
   "cell_type": "code",
   "execution_count": 7,
   "metadata": {},
   "outputs": [],
   "source": [
    "# Convert pF to pressure head in cm or hectopascal (hPa)\n",
    "# Convert volumeteric water content in percentage to cm3/cm3 (divide by 100)\n",
    "\n",
    "TH_pF_1202['h'] = (10 ** TH_pF_1202['pF'])*-1\n",
    "TH_pF_1202['theta'] = TH_pF_1202['Water_Content']/100\n",
    "\n",
    "# Conductivity in function of pF\n",
    "K_pF_1202['Kh'] = (10 ** (K_pF_1202['log_K']))\n",
    "\n",
    "# Conductivity in function of Theta\n",
    "K_TH_1202['Ktheta'] =  (10 ** (K_TH_1202['log_K']))"
   ]
  },
  {
   "cell_type": "code",
   "execution_count": 8,
   "metadata": {},
   "outputs": [],
   "source": [
    "# 1202 (subsoil)\n",
    "# Water retention\n",
    "h_1202 = TH_pF_1202.h.values \n",
    "\n",
    "# Water retention\n",
    "theta_1202 = TH_pF_1202.theta.values\n",
    "\n",
    "# Conductivity in function of h\n",
    "Kh_1202 = K_pF_1202.Kh.values\n",
    "\n",
    "# Conductivity in function of Theta\n",
    "Ktheta_1202 =  K_TH_1202.Ktheta.values"
   ]
  },
  {
   "cell_type": "markdown",
   "metadata": {},
   "source": [
    "# Optimization of van Genuchtens parameters"
   ]
  },
  {
   "cell_type": "markdown",
   "metadata": {},
   "source": [
    "- Definition of soil hydraulic parameters\n",
    "\n",
    "    * theta(h): volumetric water content (cm$^3$ cm$^-$$^3$) at pressure head (cm)\n",
    "    * theta_r:  volumetric residual water content (cm$^3$ cm$^-$$^3$)\n",
    "    * theta_s:  volumetric saturated water content (cm$^3$ cm$^-$$^3$)\n",
    "    * alpha:    inverse of air-entry suction (cm$^-$$^1$) \n",
    "    * n:        empirical measure of pore-size distribution\n",
    "    * m:        empirical constant in function of n\n",
    "    * _l_:        empirical pore-conductivity often assumed to be 0.5\n",
    "    * Se:       dimensionless effective/relative saturation\n",
    "    * k(Se):    hydraulic conductivity (cm d$^-$$^1$) at effective saturation  \n",
    "    * ksat:     saturated hydraulic conductivity (cm d$^-$$^1$)"
   ]
  },
  {
   "cell_type": "code",
   "execution_count": 9,
   "metadata": {},
   "outputs": [],
   "source": [
    "# bulk density (BD in g/cm3)\n",
    "# soil particule density (SPD in g/cm3)\n",
    "\n",
    "# topsoil bulk density (1203)\n",
    "BD1203 = 1.70\n",
    "\n",
    "# subsoil bulk density (1202)\n",
    "BD1202 = 1.786                \n",
    "SPD = 2.65                    "
   ]
  },
  {
   "cell_type": "code",
   "execution_count": 10,
   "metadata": {},
   "outputs": [],
   "source": [
    "# theta_s_1203 (topsoil)\n",
    "thetas = 1 - (BD1203/SPD)\n",
    "\n",
    "# theta_s_1202 (subsoil)\n",
    "theta_s = 1 - (BD1202/SPD)"
   ]
  },
  {
   "cell_type": "code",
   "execution_count": 11,
   "metadata": {},
   "outputs": [],
   "source": [
    "# topsoil \n",
    "def theta(h, thetar, alp, n_):\n",
    "    thetar, alp, n_ = p\n",
    "    return (thetas - thetar)/(1 + (-alp*h)**n)**(1-(1/n_)) + thetar\n",
    "\n",
    "def Residual(p, h_1203, theta_1203):\n",
    "    thetar, alp, n_ = p\n",
    "    return ((thetas - thetar)/(1 + (-alp*h_1203)**n_)**(1-(1/n_)) + thetar) - theta_1203"
   ]
  },
  {
   "cell_type": "markdown",
   "metadata": {},
   "source": [
    "Use the initial guess values for the different optimization and \n",
    "the the corresponding epsfcn variable in the leastsq() function to\n",
    "obtain the same fitted parameters as in the following cells."
   ]
  },
  {
   "cell_type": "code",
   "execution_count": 12,
   "metadata": {},
   "outputs": [
    {
     "name": "stdout",
     "output_type": "stream",
     "text": [
      "pfit =  [0.01357825 0.01469815 1.07292673]\n",
      "perr =  [ 3.45452364  1.40713555 35.57252561]\n"
     ]
    }
   ],
   "source": [
    "# Initial guess values for topsoil\n",
    "# p = [0.089, 0.01, 1.23]                                   # epsfcn=69     # first opt\n",
    "# p = [0.0918554, 0.0137085, 1.12510266]                    # epsfcn=700    # first opt robust check\n",
    "# p = [0.0583, 0.0073, 1.5193]                              # epsfcn=700    # second opt (Rosetta)\n",
    "p = [0.01, 0.0147, 1.2405]                                # epsfcn=700    # third opt (Seidel, S.,(2020)) \n",
    "# p = [0.0136, 0.0147, 1.0729]                              # epsfcn=700    # third opt robust check\n",
    "\n",
    "\n",
    "# call leastsq to find optimal parameters\n",
    "fitparams, pcov, infodict, errmsg, success = leastsq(Residual, p, args=(h_1203, theta_1203),\\\n",
    "                                                              ftol=1e-10, xtol=1e-10,full_output=1, epsfcn=700)\n",
    "print('pfit = ', fitparams)\n",
    "print('perr = ', np.sqrt(np.diag(pcov)))\n",
    "\n",
    "# fitted parameters\n",
    "thetar, alp, n_ = fitparams"
   ]
  },
  {
   "cell_type": "code",
   "execution_count": 13,
   "metadata": {},
   "outputs": [],
   "source": [
    "# topsoil vG estimates\n",
    "n1203         = 1.07292673  # 1.07292673     # 1.10594534   # 1.12510266             # third opt # second opt # first opt\n",
    "alpha_1203    = 0.01469815  # 0.01469815    # 0.00960362  # 0.0137085  \n",
    "theta_r_1203  = 0.01357825  # 0.01357825    # 0.06079742  # 0.0918554 \n",
    "theta_s_1203  = thetas\n",
    "m1203         = 1-(1/n1203)\n",
    "\n",
    "# Third opt robust check\n",
    "# n1203         = 1.06784542   \n",
    "# alpha_1203    = 0.0172135  \n",
    "# theta_r_1203  = 0.01234652 \n",
    "# theta_s_1203  = thetas\n",
    "# m1203         = 1-(1/n1203)\n",
    "\n",
    "# # First opt robust check\n",
    "# n1203         = 1.09504103   \n",
    "# alpha_1203    = 0.01542064\n",
    "# theta_r_1203  = 0.09210648 \n",
    "# theta_s_1203  = thetas\n",
    "# m1203         = 1-(1/n1203)\n",
    "\n",
    "# empirical pore-conductivity\n",
    "l            = 0.5"
   ]
  },
  {
   "cell_type": "code",
   "execution_count": 14,
   "metadata": {},
   "outputs": [],
   "source": [
    "# subsoil\n",
    "def water_retention(psi, theta_r, alpha, n):\n",
    "    theta_r, alpha, n = pp\n",
    "    return (theta_s - theta_r)/(1 + (-alpha*psi)**n)**(1-1/n) + theta_r \n",
    "\n",
    "def residual(pp, h_1202, theta_1202):\n",
    "    theta_r, alpha, n = pp\n",
    "    return ((theta_s - theta_r)/(1 + (-alpha*h_1202)**n)**(1-(1/n)) + theta_r) - theta_1202"
   ]
  },
  {
   "cell_type": "markdown",
   "metadata": {},
   "source": [
    "Just like in the case of topsoil, use the initial guess values for the different optimization and \n",
    "the the corresponding epsfcn variable in the leastsq() function to\n",
    "obtain the same fitted parameters as in the following cells."
   ]
  },
  {
   "cell_type": "code",
   "execution_count": 15,
   "metadata": {},
   "outputs": [
    {
     "name": "stdout",
     "output_type": "stream",
     "text": [
      "pfit =  [0.01231792 0.00843022 1.08161137]\n",
      "perr =  [ 4.31386101  0.79276186 41.76209877]\n"
     ]
    },
    {
     "name": "stderr",
     "output_type": "stream",
     "text": [
      "<ipython-input-14-17d05dec4f8c>:8: RuntimeWarning: invalid value encountered in power\n",
      "  return ((theta_s - theta_r)/(1 + (-alpha*h_1202)**n)**(1-(1/n)) + theta_r) - theta_1202\n"
     ]
    }
   ],
   "source": [
    "# Initial guess values for subsoil\n",
    "# pp = [0.089, 0.01, 1.23]                                             # epsfcn=700        # first opt\n",
    "# pp = [0.09124942, 0.00881593, 1.1101089]                                                 # first opt robust check\n",
    "# pp = [0.06, 0.003, 1.4399]                                           # epsfcn=500        # second opt (Rosetta)\n",
    "pp = [0.01, 0.0128, 1.1218]                                            # epsfcn=700        # third opt (Seidel, S.,(2020))\n",
    "# pp = [0.01231792, 0.00843022, 1.08161137]                                                # third opt robust check\n",
    "\n",
    "# call leastsq to find optimal parameters\n",
    "popts, ppcov, infodict, errmsg, success = leastsq(residual, pp, args=(h_1202, theta_1202),\\\n",
    "                                                              ftol=1e-10, xtol=1e-10,full_output=1, epsfcn=700)\n",
    "print('pfit = ', popts)\n",
    "print('perr = ', np.sqrt(np.diag(ppcov)))\n",
    "\n",
    "# fitted parameters\n",
    "theta_r, alpha, n = popts"
   ]
  },
  {
   "cell_type": "code",
   "execution_count": 16,
   "metadata": {},
   "outputs": [],
   "source": [
    "# subsoil vG estimates\n",
    "n1202        = 1.08161137   #1.08161137  #1.20031585   # 1.1101089                       # third opt  # second opt # first opt\n",
    "alpha_1202   = 0.00843022   # 0.00843022  #0.0028405   # 0.00881593        \n",
    "theta_r_1202 = 0.01231792   # 0.01231792  #0.06367518  # 0.09124942     \n",
    "theta_s_1202 = theta_s\n",
    "m1202        = 1-(1/n1202)\n",
    "\n",
    "# Third opt robust check\n",
    "# n1202        = 1.08161137      \n",
    "# alpha_1202   = 0.00843022         \n",
    "# theta_r_1202 = 0.01231792     \n",
    "# theta_s_1202 = theta_s\n",
    "# m1202        = 1-(1/n1202)\n",
    "\n",
    "# # first opt robust check\n",
    "# n1202        = 1.11009815   \n",
    "# alpha_1202   = 0.00881485      \n",
    "# theta_r_1202 = 0.09124938     \n",
    "# theta_s_1202 = theta_s\n",
    "# m1202        = 1-(1/n1202)"
   ]
  },
  {
   "cell_type": "code",
   "execution_count": 17,
   "metadata": {},
   "outputs": [],
   "source": [
    "# Water content - MvG function\n",
    "\n",
    "def WaterContent(theta_s, theta_r, alpha, n, h):\n",
    "    theta = (theta_s - theta_r)/(1+(-alpha*h)**n)**(1-1/n)+theta_r\n",
    "    return theta"
   ]
  },
  {
   "cell_type": "code",
   "execution_count": 18,
   "metadata": {},
   "outputs": [],
   "source": [
    "# Analytical solution of MvG function\n",
    "water_content_1203 = WaterContent(theta_s_1203, theta_r_1203, alpha_1203, n1203, h1203)\n",
    "water_content_1202 = WaterContent(theta_s_1202, theta_r_1202, alpha_1202, n1202, h1202)"
   ]
  },
  {
   "cell_type": "code",
   "execution_count": 19,
   "metadata": {},
   "outputs": [
    {
     "name": "stdout",
     "output_type": "stream",
     "text": [
      "Maximum theta 1203:  0.35700000000000004\n",
      "Minimum theta 1203:  0.29510000000000003\n",
      "Maximum theta 1202:  0.326\n",
      "Minimum theta 1202:  0.2729\n"
     ]
    }
   ],
   "source": [
    "print('Maximum theta 1203: ', theta_1203.max())\n",
    "print('Minimum theta 1203: ', theta_1203.min())\n",
    "print('Maximum theta 1202: ', theta_1202.max())\n",
    "print('Minimum theta 1202: ', theta_1202.min())"
   ]
  },
  {
   "cell_type": "code",
   "execution_count": 20,
   "metadata": {},
   "outputs": [
    {
     "data": {
      "image/png": "[encoded data removed]",
      "text/plain": [
       "<Figure size 1152x432 with 2 Axes>"
      ]
     },
     "metadata": {
      "needs_background": "light"
     },
     "output_type": "display_data"
    }
   ],
   "source": [
    "# Plot\n",
    "fig, (ax1, ax2) = plt.subplots(1, 2, figsize=(16,6))\n",
    "fig.suptitle('Third Optimization', fontsize=16)\n",
    "\n",
    "ax1.semilogx(abs(h_1203), theta_1203, 'bo', label='experimental data topsoil')\n",
    "\n",
    "ax1.semilogx(abs(h1203), water_content_1203, 'k-', label='fit: THr=%5.4f,alpha=%5.4f,n=%5.4f' % tuple(fitparams))\n",
    "ax1.set_xlabel('Absolute soil water potential (cm)',fontsize=15, labelpad=15)\n",
    "ax1.set_ylabel('Volumetric water content (cm$^3$ cm$^-$$^3$)',fontsize=15, labelpad=15)\n",
    "ax1.set_ylim(0, 0.4)\n",
    "ax1.set_xscale('log')\n",
    "ax1.legend(loc='lower right')\n",
    "\n",
    "ax2.semilogx(abs(h_1202), theta_1202, 'ro', label='experimental data subsoil')\n",
    "\n",
    "ax2.semilogx(abs(h1202), water_content_1202, 'k-', label='fit: THr=%5.4f,alpha=%5.4f,n=%5.4f' % tuple(popts))\n",
    "ax2.set_xlabel('Absolute soil water potential (cm)',fontsize=15, labelpad=15)\n",
    "# ax2.set_ylabel('Water content(-)',fontsize=20)\n",
    "ax2.set_ylim(0, 0.4)\n",
    "ax2.set_xscale('log')\n",
    "ax2.legend(loc='lower right')\n",
    "\n",
    "# plt.savefig('Van Genchtens parameters estimation.png')\n",
    "# plt.savefig('Van Genchtens parameters estimation_Second_Opt.png')\n",
    "plt.savefig('Van Genchtens parameters estimation_Third_Opt.png')\n",
    "# plt.savefig('Van Genchtens parameters estimation-robust-First-Opt.png')\n",
    "# plt.savefig('Van Genchtens parameters estimation-robust-Third-Opt.png')\n",
    "plt.show()"
   ]
  },
  {
   "cell_type": "code",
   "execution_count": 21,
   "metadata": {},
   "outputs": [
    {
     "name": "stdout",
     "output_type": "stream",
     "text": [
      "Accuracy measurement for van Genuchtens parameters 1203\n",
      "RMSE : 0.003\n",
      "R_squared : 0.982\n"
     ]
    }
   ],
   "source": [
    "# Statistic measures for topsoil van Genuchten parameters\n",
    "# Root mean squared error\n",
    "ypred = WaterContent(theta_s_1203, theta_r_1203, alpha_1203, n1203, h_1203)\n",
    "ytrue = theta_1203\n",
    "sse = sum((ypred - ytrue)**2)\n",
    "rmse = np.sqrt(sse/len(ytrue)).round(3)\n",
    "\n",
    "\n",
    "# Coefficient of determination\n",
    "def squared_error(ys_orig,ys_line):\n",
    "    return sum((ys_line - ys_orig) * (ys_line - ys_orig))\n",
    "\n",
    "def coefficient_of_determination(ys_orig,ys_line):\n",
    "    y_mean_line = [np.mean(ys_orig) for y in ys_orig]\n",
    "    squared_error_regr = squared_error(ys_orig, ys_line)\n",
    "    squared_error_y_mean = squared_error(ys_orig, y_mean_line)\n",
    "    return 1 - (squared_error_regr/squared_error_y_mean)\n",
    "\n",
    "r_squared = coefficient_of_determination(ytrue, ypred).round(3)\n",
    "\n",
    "print('Accuracy measurement for van Genuchtens parameters 1203')\n",
    "print('RMSE :', rmse)\n",
    "print('R_squared :', r_squared)"
   ]
  },
  {
   "cell_type": "code",
   "execution_count": 22,
   "metadata": {},
   "outputs": [
    {
     "name": "stdout",
     "output_type": "stream",
     "text": [
      "Accuracy measurement for van Genuchtens parameters 1202\n",
      "RMSE : 0.002\n",
      "R_squared : 0.982\n"
     ]
    }
   ],
   "source": [
    "# Statistic measures for subsoil van Genuchten parameters\n",
    "# Root mean squared error\n",
    "y_pred = WaterContent(theta_s_1202, theta_r_1202, alpha_1202, n1202, h_1202)\n",
    "y_true = theta_1202\n",
    "SSE = sum((y_pred - y_true)**2)\n",
    "RMSE = np.sqrt(SSE/len(y_true)).round(3)\n",
    "\n",
    "\n",
    "# Coefficient of determination\n",
    "R_squared = coefficient_of_determination(y_true, y_pred).round(3)\n",
    "\n",
    "print('Accuracy measurement for van Genuchtens parameters 1202')\n",
    "print('RMSE :', RMSE)\n",
    "print('R_squared :', R_squared)"
   ]
  },
  {
   "cell_type": "markdown",
   "metadata": {},
   "source": [
    "# Estimation of hydraulic conductivity"
   ]
  },
  {
   "cell_type": "code",
   "execution_count": 23,
   "metadata": {},
   "outputs": [],
   "source": [
    "# Effective saturation (Se)\n",
    "\n",
    "def saturation(theta, theta_r, theta_s):\n",
    "    return (theta - theta_r)/(theta_s - theta_r)"
   ]
  },
  {
   "cell_type": "code",
   "execution_count": 24,
   "metadata": {},
   "outputs": [],
   "source": [
    "# Analytical solution \n",
    "Se_h_1203 = saturation(theta_1203, theta_r_1203, theta_s_1203)          # effective saturation in topsoil\n",
    "Se_h_1202 = saturation(theta_1202, theta_r_1202, theta_s_1202)          # effective saturation in subsoil"
   ]
  },
  {
   "cell_type": "code",
   "execution_count": 25,
   "metadata": {
    "scrolled": true
   },
   "outputs": [
    {
     "name": "stdout",
     "output_type": "stream",
     "text": [
      "Maximum Se 1203:  0.995678420374027\n",
      "Minimum Se 1203:  0.8162125181090939\n",
      "Maximum Se 1202:  0.9998797148055361\n",
      "Minimum Se 1202:  0.8306204034155644\n"
     ]
    }
   ],
   "source": [
    "print('Maximum Se 1203: ', Se_h_1203.max())\n",
    "print('Minimum Se 1203: ', Se_h_1203.min())\n",
    "print('Maximum Se 1202: ', Se_h_1202.max())\n",
    "print('Minimum Se 1202: ', Se_h_1202.min())"
   ]
  },
  {
   "cell_type": "code",
   "execution_count": 26,
   "metadata": {},
   "outputs": [],
   "source": [
    "# Unssaturated hydraulic conductivity in function of Se\n",
    "\n",
    "def hydrualic_conductivity(Se, Ks, m):\n",
    "    return (Ks*Se**l)*(1 - (1-Se**(1/m))**m)**2"
   ]
  },
  {
   "cell_type": "code",
   "execution_count": 27,
   "metadata": {},
   "outputs": [],
   "source": [
    "Se1203_ = Se_h_1203[:85]\n",
    "\n",
    "\n",
    "def Res(p_, Se1203_, Kh_1203):\n",
    "    ksat = p_\n",
    "    return ((ksat*Se1203_**l)*(1 - (1-Se1203_**(1/m1203))**m1203)**2) - Kh_1203"
   ]
  },
  {
   "cell_type": "code",
   "execution_count": 28,
   "metadata": {},
   "outputs": [
    {
     "name": "stdout",
     "output_type": "stream",
     "text": [
      "pfit =  [10.57638516]\n",
      "perr =  [9.18187047]\n"
     ]
    }
   ],
   "source": [
    "# Initial guesses\n",
    "# p_ = [10]                                          # first opt\n",
    "# p_ = [6.0696]                                  # first opt robust check\n",
    "# p_ = [5.51]                                        # second opt (Rosetta)\n",
    "p_ = [9.8496]                                      # third opt (Seidel (2020))\n",
    "# p_ = [10.5764]                                  # third opt robust check\n",
    "\n",
    "# call leastsq to find optimal parameters\n",
    "fitparam, pcov, infodict, errmsg, success = leastsq(Res, p_, args=(Se1203_, Kh_1203),\\\n",
    "                                                              ftol=1e-10, xtol=1e-10,full_output=1, epsfcn=0.1)\n",
    "print('pfit = ', fitparam)\n",
    "print('perr = ', np.sqrt(np.diag(pcov)))\n",
    "\n",
    "# fitted parameters\n",
    "ksat = fitparam"
   ]
  },
  {
   "cell_type": "code",
   "execution_count": 29,
   "metadata": {},
   "outputs": [],
   "source": [
    "Se1202_ = Se_h_1202\n",
    "\n",
    "\n",
    "def res(pp_, Se1202_, Kh_1202):\n",
    "    Ks = pp_\n",
    "    return ((Ks*Se1202_**l)*(1 - (1-Se1202_**(1/m1202))**m1202)**2) - Kh_1202"
   ]
  },
  {
   "cell_type": "code",
   "execution_count": 30,
   "metadata": {},
   "outputs": [
    {
     "name": "stdout",
     "output_type": "stream",
     "text": [
      "pfit =  [0.81449685]\n",
      "perr =  [2.68405156]\n"
     ]
    }
   ],
   "source": [
    "# Initial guesses\n",
    "# pp_ = [10]                                            # first opt\n",
    "# pp_ = [0.53694105]                                    # first opt robust check\n",
    "# pp_ = [2.68]                                          # second opt (Rosetta)\n",
    "pp_ = [9.1584]                                        # third opt (Seidel, S.(2020))\n",
    "# pp_ = [0.81449685]                                    # third opt robust check\n",
    "\n",
    "# call leastsq to find optimal parameters\n",
    "popt, ppcov, infodict, errmsg, success = leastsq(res, pp_, args=(Se1202_, Kh_1202),\\\n",
    "                                                              ftol=1e-10, xtol=1e-10,full_output=1, epsfcn=0.1)\n",
    "print('pfit = ', popt)\n",
    "print('perr = ', np.sqrt(np.diag(ppcov)))\n",
    "\n",
    "# fitted parameters\n",
    "Ks = popt"
   ]
  },
  {
   "cell_type": "code",
   "execution_count": 31,
   "metadata": {},
   "outputs": [],
   "source": [
    "# Hydraulic Conductivity in function of relative saturaturation (K(Se))\n",
    "\n",
    "KSe_1203 = hydrualic_conductivity(Se1203_, ksat, m1203)\n",
    "KSe_1202 = hydrualic_conductivity(Se1202_, Ks, m1202)"
   ]
  },
  {
   "cell_type": "code",
   "execution_count": 32,
   "metadata": {},
   "outputs": [
    {
     "name": "stderr",
     "output_type": "stream",
     "text": [
      "<ipython-input-26-7d3dcddbd0f1>:4: RuntimeWarning: invalid value encountered in power\n",
      "  return (Ks*Se**l)*(1 - (1-Se**(1/m))**m)**2\n"
     ]
    }
   ],
   "source": [
    "# Analytic solution for K(Se)\n",
    "K1203 = hydrualic_conductivity(Se1203[:85], ksat, m1203)\n",
    "K1202 = hydrualic_conductivity(Se1202, Ks, m1202)"
   ]
  },
  {
   "cell_type": "code",
   "execution_count": 33,
   "metadata": {},
   "outputs": [
    {
     "data": {
      "image/png": "[encoded data removed]",
      "text/plain": [
       "<Figure size 1152x432 with 2 Axes>"
      ]
     },
     "metadata": {
      "needs_background": "light"
     },
     "output_type": "display_data"
    }
   ],
   "source": [
    "# Plot\n",
    "fig, (ax1, ax2) = plt.subplots(1, 2, figsize=(16,6))\n",
    "fig.suptitle('Third Optimization', fontsize=20)\n",
    "\n",
    "ax1.semilogy(Se1203_, KSe_1203, 'bo', label='measured data topsoil')\n",
    "\n",
    "ax1.semilogy(Se1203[:85], K1203, 'y-', label='fit: Ks=%5.4f' % tuple(fitparam))\n",
    "ax1.set_xlabel('Relative saturation (-)',fontsize=15, labelpad=15)\n",
    "ax1.set_ylabel('Hydraulic conductivity (cm d$^-$$^1$)',fontsize=15, labelpad=15)\n",
    "# # ax1.set_yscale('log')\n",
    "ax1.set_ylim(10**-31, 10**1)\n",
    "ax1.legend(loc='lower right')\n",
    "\n",
    "ax2.semilogy(Se1202_, KSe_1202, 'ro', label='measured data subsoil')\n",
    "\n",
    "ax2.semilogy(Se1202, K1202, 'y-', label='fit: Ks=%5.4f' % tuple(popt))\n",
    "ax2.set_xlabel('Relative saturation (-)',fontsize=15, labelpad=15)\n",
    "# ax2.set_ylabel('Hydraulic Conductivity (cm/day)',fontsize=14)\n",
    "# # ax2.set_yscale('log')\n",
    "ax2.set_ylim(10**-31, 10**1)\n",
    "ax2.legend(loc='lower right')\n",
    "\n",
    "# plt.savefig('Hydraulic conductivity estimate.png')\n",
    "# plt.savefig('Hydraulic conductivity estimate_Second_Opt.png')\n",
    "plt.savefig('Hydraulic conductivity estimate_Third_Opt.png')\n",
    "# plt.savefig('Hydraulic conductivity estimate-robust-First-Opt.png')\n",
    "# plt.savefig('Hydraulic conductivity estimate-robust-Third-Opt.png')\n",
    "plt.show()"
   ]
  },
  {
   "cell_type": "code",
   "execution_count": 34,
   "metadata": {},
   "outputs": [
    {
     "name": "stdout",
     "output_type": "stream",
     "text": [
      "Accuracy measurement for hydraulic conductivity 1203\n",
      "RMSE : 0.0\n",
      "R_squared : 1.0\n"
     ]
    }
   ],
   "source": [
    "# Statistic measures for topsoil van Genuchten parameters\n",
    "# Root mean squared error\n",
    "ypred = hydrualic_conductivity(Se1203_, fitparam, m1203)\n",
    "ytrue = KSe_1203\n",
    "sse = sum((ypred - ytrue)**2)\n",
    "rmse = np.sqrt(sse/len(ytrue)).round(3)\n",
    "\n",
    "\n",
    "# Coefficient of determination\n",
    "def squared_error(ys_orig,ys_line):\n",
    "    return sum((ys_line - ys_orig) * (ys_line - ys_orig))\n",
    "\n",
    "def coefficient_of_determination(ys_orig,ys_line):\n",
    "    y_mean_line = [np.mean(ys_orig) for y in ys_orig]\n",
    "    squared_error_regr = squared_error(ys_orig, ys_line)\n",
    "    squared_error_y_mean = squared_error(ys_orig, y_mean_line)\n",
    "    return 1 - (squared_error_regr/squared_error_y_mean)\n",
    "\n",
    "r_squared = coefficient_of_determination(ytrue, ypred).round(3)\n",
    "\n",
    "print('Accuracy measurement for hydraulic conductivity 1203')\n",
    "print('RMSE :', rmse)\n",
    "print('R_squared :', r_squared)"
   ]
  },
  {
   "cell_type": "code",
   "execution_count": 35,
   "metadata": {},
   "outputs": [
    {
     "name": "stdout",
     "output_type": "stream",
     "text": [
      "Accuracy measurement for hydraulic conductivity 1202\n",
      "RMSE : 0.0\n",
      "R_squared : 1.0\n"
     ]
    }
   ],
   "source": [
    "# Statistic measures for subsoil van Genuchten parameters\n",
    "# Root mean squared error\n",
    "ypred = hydrualic_conductivity(Se1202_, popt, m1202)\n",
    "# ypred =((Ks*Se1202_**l)*(1 - (1-Se1202_**(1/m1202))**m1202)**2)\n",
    "ytrue = KSe_1202\n",
    "sse = sum((ypred - ytrue)**2)\n",
    "rmse = np.sqrt(sse/len(ytrue)).round(3)\n",
    "\n",
    "\n",
    "# Coefficient of determination\n",
    "def squared_error(ys_orig,ys_line):\n",
    "    return sum((ys_line - ys_orig) * (ys_line - ys_orig))\n",
    "\n",
    "def coefficient_of_determination(ys_orig,ys_line):\n",
    "    y_mean_line = [np.mean(ys_orig) for y in ys_orig]\n",
    "    squared_error_regr = squared_error(ys_orig, ys_line)\n",
    "    squared_error_y_mean = squared_error(ys_orig, y_mean_line)\n",
    "    return 1 - (squared_error_regr/squared_error_y_mean)\n",
    "\n",
    "r_squared = coefficient_of_determination(ytrue, ypred).round(3)\n",
    "\n",
    "print('Accuracy measurement for hydraulic conductivity 1202')\n",
    "print('RMSE :', rmse)\n",
    "print('R_squared :', r_squared)"
   ]
  },
  {
   "cell_type": "code",
   "execution_count": null,
   "metadata": {},
   "outputs": [],
   "source": []
  }
 ],
 "metadata": {
  "kernelspec": {
   "display_name": "Python 3",
   "language": "python",
   "name": "python3"
  },
  "language_info": {
   "codemirror_mode": {
    "name": "ipython",
    "version": 3
   },
   "file_extension": ".py",
   "mimetype": "text/x-python",
   "name": "python",
   "nbconvert_exporter": "python",
   "pygments_lexer": "ipython3",
   "version": "3.8.5"
  }
 },
 "nbformat": 4,
 "nbformat_minor": 4
}
